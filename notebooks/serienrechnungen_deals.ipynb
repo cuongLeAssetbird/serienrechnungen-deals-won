{
 "cells": [
  {
   "cell_type": "code",
   "execution_count": 26,
   "metadata": {},
   "outputs": [],
   "source": [
    "import requests\n",
    "from dotenv import load_dotenv\n",
    "from time import sleep\n",
    "import os\n",
    "from typing import List"
   ]
  },
  {
   "attachments": {},
   "cell_type": "markdown",
   "metadata": {},
   "source": [
    "### Step 1: Load token into headers"
   ]
  },
  {
   "cell_type": "code",
   "execution_count": 2,
   "metadata": {},
   "outputs": [
    {
     "data": {
      "text/plain": [
       "True"
      ]
     },
     "execution_count": 2,
     "metadata": {},
     "output_type": "execute_result"
    }
   ],
   "source": [
    "# Load environment variables from the .env file\n",
    "load_dotenv(\"token.env\")"
   ]
  },
  {
   "cell_type": "code",
   "execution_count": 3,
   "metadata": {},
   "outputs": [],
   "source": [
    "hubspot_bearer_token = os.getenv(\"HUBSPOT_BEARER_TOKEN\")\n",
    "lexoffice_api = os.getenv(\"LEXOFFICE_API\")"
   ]
  },
  {
   "cell_type": "code",
   "execution_count": 4,
   "metadata": {},
   "outputs": [],
   "source": [
    "# Hubspot headers\n",
    "hubspot_headers = {\"Authorization\": f\"Bearer {hubspot_bearer_token}\"}"
   ]
  },
  {
   "cell_type": "code",
   "execution_count": 5,
   "metadata": {},
   "outputs": [],
   "source": [
    "# LexOffice headers\n",
    "lexoffice_headers = {\"Authorization\": f\"Bearer {lexoffice_api}\"}"
   ]
  },
  {
   "attachments": {},
   "cell_type": "markdown",
   "metadata": {},
   "source": [
    "### Step 2: Call all WON Deals in Hubspot using Pagination"
   ]
  },
  {
   "cell_type": "code",
   "execution_count": 31,
   "metadata": {},
   "outputs": [],
   "source": [
    "### This list are the IDs assigned to 'WON' dealstage in the sales pipeline\n",
    "won_dealstages = [\"13546489\", \"80458335\", \"257294988\", \"94979183\"]"
   ]
  },
  {
   "cell_type": "code",
   "execution_count": 32,
   "metadata": {},
   "outputs": [],
   "source": [
    "# Step 2: API Request with Pagination\n",
    "url = \"https://api.hubapi.com/crm/v3/objects/deals\"\n",
    "params = {\n",
    "    \"limit\": 50,\n",
    "    \"properties\": [\"dealname\", \"dealstage\", \"hs_lastmodifieddate\", \"createdate\"],\n",
    "    \"propertiesWithHistory\": [\"dealstage\"],\n",
    "}\n",
    "\n",
    "after = None\n",
    "has_more = True\n",
    "\n",
    "recently_became_win = []\n",
    "\n",
    "while has_more:\n",
    "    if after:\n",
    "        params[\"after\"] = after\n",
    "\n",
    "    response = requests.get(url, headers=hubspot_headers, params=params)\n",
    "    if response.status_code != 200:\n",
    "        print(\"Error:\", response.status_code, response.text)\n",
    "        break\n",
    "    data = response.json()\n",
    "\n",
    "    # process deals\n",
    "    for deal in data[\"results\"]:\n",
    "        properties = deal[\"properties\"]\n",
    "        if (\n",
    "            \"(Import\" not in properties[\"dealname\"]\n",
    "            and \"(Upgrade\" not in properties[\"dealname\"]\n",
    "        ):\n",
    "            # convert last modified date strings to timestamps\n",
    "            hs_lastmodifieddate_str = properties[\"hs_lastmodifieddate\"]\n",
    "\n",
    "            dealstage_history = []\n",
    "            ### dealstage history contains all the dealstage of the deal with its respective timestamps\n",
    "            if (\n",
    "                \"propertiesWithHistory\" in deal\n",
    "                and \"dealstage\" in deal[\"propertiesWithHistory\"]\n",
    "            ):\n",
    "                dealstage_history = deal[\"propertiesWithHistory\"][\"dealstage\"]\n",
    "\n",
    "                for version in dealstage_history:\n",
    "                    ### this if else function looks for deal with dealstage recently transitioned to 'WIN'\n",
    "                    if version[\"value\"] in won_dealstages:\n",
    "                        recently_became_win.append(deal)\n",
    "                        break\n",
    "\n",
    "    # paginating\n",
    "    has_more = \"paging\" in data and \"next\" in data[\"paging\"]\n",
    "    if has_more:\n",
    "        after = data[\"paging\"][\"next\"][\"after\"]\n",
    "    else:\n",
    "        after = None\n",
    "\n",
    "    sleep(0.5)"
   ]
  },
  {
   "cell_type": "code",
   "execution_count": null,
   "metadata": {},
   "outputs": [],
   "source": [
    "### Print test\n",
    "print(\"\\n All Won Deals are:\")\n",
    "for deal in recently_became_win:\n",
    "    properties = deal[\"properties\"]\n",
    "    print(f\"- Deal Name: {properties['dealname']}\")"
   ]
  },
  {
   "cell_type": "code",
   "execution_count": 42,
   "metadata": {},
   "outputs": [],
   "source": [
    "### Save Deals into a list of only dealname --> For comparision with LexOffice\n",
    "hubspot_dealname = []\n",
    "for i in recently_became_win:\n",
    "    dealname = i[\"properties\"][\"dealname\"]\n",
    "    hubspot_dealname.append(dealname)"
   ]
  },
  {
   "attachments": {},
   "cell_type": "markdown",
   "metadata": {},
   "source": [
    "### Step 3: Paginate through all Recurring Templates in Lexoffice (Serienrechnungen) and get the 'name' of all 'Rechnung' into a list for comparision later"
   ]
  },
  {
   "cell_type": "code",
   "execution_count": 50,
   "metadata": {},
   "outputs": [],
   "source": [
    "def get_contact_name_lexoffice(page_number: int) -> List[str]:\n",
    "    \"\"\"\n",
    "    Call for all Serienvorlagen in LexOffice and return a list of names (from contacts) to compare with Hubspot later on.\n",
    "\n",
    "    :param page_number: The page number to retrieve from the LexOffice API.\n",
    "    :return: A list of contact names (strings).\n",
    "    \"\"\"\n",
    "    rec_template_get_url = f\"https://api.lexoffice.io/v1/recurring-templates?page={page_number}&size=250&sort=createdDate,DESC\"\n",
    "    response = requests.get(rec_template_get_url, headers=lexoffice_headers)\n",
    "\n",
    "    if response.status_code == 200:\n",
    "        print(\"Successfully retrieved Serienvorlagen\")\n",
    "        json_response = response.json()  # Parse JSON once\n",
    "        content = json_response.get(\n",
    "            \"content\", []\n",
    "        )  # Safely get 'content', defaulting to an empty list if not found\n",
    "        serien_vorlage_namen = []\n",
    "        if content:\n",
    "            for item in content:\n",
    "                name = item.get(\"address\", {}).get(\n",
    "                    \"name\", \"\"\n",
    "                )  # Safely get 'name' from 'address'\n",
    "                if (\n",
    "                    name and name not in serien_vorlage_namen\n",
    "                ):  # Only add non-empty names + Avoid duplicates\n",
    "                    serien_vorlage_namen.append(name)\n",
    "\n",
    "        # Return either a list of names or just an empty list\n",
    "        return serien_vorlage_namen\n",
    "    else:\n",
    "        print(\n",
    "            f\"Error. Status code is {response.status_code}. Response: {response.text}\"\n",
    "        )\n",
    "        return []  # Return an empty list in case of error"
   ]
  },
  {
   "cell_type": "code",
   "execution_count": 51,
   "metadata": {},
   "outputs": [
    {
     "name": "stdout",
     "output_type": "stream",
     "text": [
      "Successfully retrieved Serienvorlagen\n"
     ]
    }
   ],
   "source": [
    "serien_vorlage_namen = get_contact_name_lexoffice(0)"
   ]
  },
  {
   "cell_type": "code",
   "execution_count": 52,
   "metadata": {},
   "outputs": [],
   "source": [
    "not_in_serienvorlagen = []"
   ]
  },
  {
   "cell_type": "code",
   "execution_count": 53,
   "metadata": {},
   "outputs": [],
   "source": [
    "for name in hubspot_dealname:\n",
    "    if name not in serien_vorlage_namen:\n",
    "        not_in_serienvorlagen.append(name)"
   ]
  },
  {
   "cell_type": "code",
   "execution_count": 54,
   "metadata": {},
   "outputs": [
    {
     "name": "stdout",
     "output_type": "stream",
     "text": [
      "136\n",
      "75\n"
     ]
    }
   ],
   "source": [
    "print(len(hubspot_dealname))\n",
    "print(len(not_in_serienvorlagen))"
   ]
  },
  {
   "cell_type": "code",
   "execution_count": 55,
   "metadata": {},
   "outputs": [
    {
     "name": "stdout",
     "output_type": "stream",
     "text": [
      "['NATULIS Group AG', 'Soravia Investment Holding GmbH', 'TSC Real Estate GmbH', 'CILON GmbH', 'Seyband Gruppe (User: 3)', 'Heimstaden Germany GmbH', 'Cube Real Estate GmbH', 'OFB Projektentwicklung GmbH', 'Neutecta Grundinvest AG', 'Schettler Immobilien Gruppe', 'Peper & Söhne Projekt GmbH', '4BRICKS', 'BBG Invest', 'Graubner Projektentwicklung GmbH & Co. KG', 'Alpine Immobilien GmbH', 'S&P Commercial Development GmbH', 'INDUSTRIA WOHNEN GmbH', 'POLIS Immobilien AG', 'Georg Schewe GmbH & Co. KG', 'WERTCONCEPT Investment Group GmbH', 'PREIG AG', 'CV Real Estate AG', 'Pegasus Capital Partners GmbH', 'Tecklenburg Projektentwicklungs GmbH', 'Real Trade', 'weisenburger invest GmbH', 'Engelhardt Group', 'DOWNTOWN Development GmbH', 'F4 Immobilien (User: 5)', 'S&P Grund Invest GmbH', 'Soravia Deutschland (User: 5)', 'G-PARX Real Estate GmbH', 'IKEA Verwaltungs-GmbH', 'BUDIRO', 'T&T Grundbesitz', 'STONEHEDGE Projektentwicklungsgesellschaft mbH', 'SONAR Real Estate GmbH', 'Laborgh Investment GmbH', 'Beermann Immobilien', 'Parkona (User: 3)', 'NAS Real Transactions GmbH', 'Artisa Group AG', 'Berliner Jungens Development GmbH', 'Braunschweiger Immobilien Handelshaus', 'HEICO Investment Management GmbH', 'MPC Capital Real Estate Solutions\\xa0', 'albrings + müller', 'Dreßler Bau GmbH', 'Hammer AG', 'FAM Real Gesellschaft für private Immobilienwerte mbH', 'Feldberg Capital GmbH\\xa0', 'SynVest Fund Management BV ', 'e+k Transaction GmbH', 'Reality Germany GmbH\\xa0', 'Die Wohnkompanie Nord GmbH\\xa0', 'Saxovent Real Estate Development GmbH & Co. KG', 'VIVION Investment GmbH', 'ECE Work & Live GmbH & Co. KG', 'RET10', 'IBB Beteiligungsgesellschaft mbH', '468 Capital *IBB (einwert)', 'FREE FRIENDS', 'STRABAG Real Estate GmbH', 'POWILLEIT GROUP', 'STRABAG HOLD ESTATE', 'Becker & Kries Projekt-Invest GmbH & Co. KG', 'Klaas Projekte GmbH', 'KLEUSBERG GmbH & Co. KG', 'ISIHOME Group GmbH', 'DEA Capital Real Estate Germany GmbH', 'upestate projektentwicklung gmbh', 'Becken Development GmbH', 'DEA Capital Real Estate Germany GmbH', 'Friedrich Haase / Kahuna Grundbesitzgesellschaft ', 'MDI Real Estate GmbH\\xa0']\n"
     ]
    }
   ],
   "source": [
    "print(not_in_serienvorlagen)"
   ]
  }
 ],
 "metadata": {
  "kernelspec": {
   "display_name": "venv",
   "language": "python",
   "name": "python3"
  },
  "language_info": {
   "codemirror_mode": {
    "name": "ipython",
    "version": 3
   },
   "file_extension": ".py",
   "mimetype": "text/x-python",
   "name": "python",
   "nbconvert_exporter": "python",
   "pygments_lexer": "ipython3",
   "version": "3.13.2"
  },
  "orig_nbformat": 4
 },
 "nbformat": 4,
 "nbformat_minor": 2
}
